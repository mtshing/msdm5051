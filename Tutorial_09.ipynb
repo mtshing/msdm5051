{
 "cells": [
  {
   "cell_type": "markdown",
   "id": "56a4dab8-8ba9-43fa-b2d7-2ef21f83a40f",
   "metadata": {},
   "source": [
    "# MSDM5051 Tutorial 9 - Object Oriented Programming \n",
    "\n",
    "## Contents\n",
    "\n",
    "1. Class & Object\n",
    "2. Inheritance"
   ]
  },
  {
   "cell_type": "markdown",
   "id": "b5d10d09-bdaf-47f0-a295-d1ce95ddc4ac",
   "metadata": {
    "tags": []
   },
   "source": [
    "---\n",
    "# 1. Class & Object\n",
    "\n",
    "Up to this point, you should be already familiar with the class syntax in Python. In the early tutorials, we have been frequently defining a `Node` class to demonstrate different data structures. In fact, everything in Python are coded as class. We can show this using the `type()` function:"
   ]
  },
  {
   "cell_type": "code",
   "execution_count": 1,
   "id": "2d05ce13-09cb-4f8e-a3e2-b5825edf31fd",
   "metadata": {},
   "outputs": [
    {
     "name": "stdout",
     "output_type": "stream",
     "text": [
      "<class 'int'>\n",
      "<class 'str'>\n"
     ]
    }
   ],
   "source": [
    "var1 = 42\n",
    "var2 = \"I love Python\"\n",
    "\n",
    "print(type(var1))\n",
    "print(type(var2))"
   ]
  },
  {
   "cell_type": "markdown",
   "id": "9dbf3967-5a9a-4d2f-9de2-617c70358878",
   "metadata": {},
   "source": [
    "which says that `42` is an object created under the class `int` (integer), and `\"I love Python\"` is an object created under the class `str` (string). In lower level languages like C++, data types like `int` and `str` are sets of rules that tells the computer how to interpret a binary machine code. But in Python, the difference between data type and class is not very unclear - on one hand, you can write OOP-liked syntax for some built-in data type (E.g. check out the `int` class [here](https://docs.python.org/3/library/stdtypes.html#additional-methods-on-integer-types)); On the other hand, defining a new class is equivalent to creating a user-defined data type.\n",
    "\n",
    "## 1.1. Basic syntax\n",
    "\n",
    "In general, a class definition consists of two main kinds of elements: attribute and method. \n",
    "- **Attribute** = Properties of the objects. The parameters that describe the objects. \n",
    "- **Method** = Action to the objects. What the object can do or can be done. \n",
    "\n",
    "\n",
    "We always define a new class first using the `class` keyword. Then \n",
    "- The attributes should be defined under the constructor function `__init__()`, i.e. it defines what parameters should be setup in order to create an object of this class, and will be run immediately everytime a new object is initialized.\n",
    "- Finally each of the methods are added as individual functions following `__init__()`. \n",
    "\n",
    "**Note 1:** It is possible to define additional attributes of the class without using `__init__()`, or even add attributes to the objects outside the class definition. But it will just make your code more painful to maintain. \n"
   ]
  },
  {
   "cell_type": "code",
   "execution_count": 2,
   "id": "3d34de6b-d50f-4265-9c12-eaee69e2459b",
   "metadata": {},
   "outputs": [],
   "source": [
    "class My_Class1:\n",
    "    def __init__(self, prop1, prop2):\n",
    "        self.attribute1 = prop1\n",
    "        self.attribute2 = prop2\n",
    "    \n",
    "    def method1(self):\n",
    "        print(\"this is \", self.attribute1, self.attribute2, \" outputing from method1\") \n",
    "    \n",
    "    def method2(self, input1, input2):\n",
    "        self.attribute3 = input1 + input2    # we can create extra attribute outside of __init__(), but this will be painful for debugging\n",
    "        \n",
    "    def method3(self, input1, input2):\n",
    "        pass                                 # \"pass\" means this function do nothing"
   ]
  },
  {
   "cell_type": "code",
   "execution_count": 3,
   "id": "314602c9-0488-45c4-b211-183533e70472",
   "metadata": {},
   "outputs": [
    {
     "name": "stdout",
     "output_type": "stream",
     "text": [
      "5 10 7 15\n"
     ]
    }
   ],
   "source": [
    "obj1 = My_Class1(5,10)\n",
    "\n",
    "obj1.method2(3,4)       # you CAN create extra attribute by calling a method that does so\n",
    "obj1.attribute4 = 15    # you CAN add extra attribute to the object\n",
    "                        # But it does not mean you SHOULD do so because this will be painful for debugging\n",
    "\n",
    "print(obj1.attribute1, obj1.attribute2, obj1.attribute3, obj1.attribute4)"
   ]
  },
  {
   "cell_type": "markdown",
   "id": "de678776-db53-405c-8630-0159de1b535f",
   "metadata": {},
   "source": [
    "**Note 2:** Every function in the class definition, including `__init__()`, must be supplied with at least the first argument, which refer to the object itself. The word `self` is often used as a convention, but you can actually use any word."
   ]
  },
  {
   "cell_type": "code",
   "execution_count": 4,
   "id": "b36abbf2-6f0a-4fec-b268-d88ea507332f",
   "metadata": {},
   "outputs": [],
   "source": [
    "# It works perfectly fine when \"self\" is replaced by another word\n",
    "\n",
    "class My_Class2:\n",
    "    def __init__(WOW, prop1, prop2):\n",
    "        WOW.attribute1 = prop1\n",
    "        WOW.attribute2 = prop2\n",
    "        \n",
    "    def method1(WOW):\n",
    "        print(\"this is \", WOW.attribute1, WOW.attribute2, \" outputing from method1\") "
   ]
  },
  {
   "cell_type": "code",
   "execution_count": 5,
   "id": "732ec1bd-e744-4306-a6a6-a515e4ef3562",
   "metadata": {},
   "outputs": [
    {
     "name": "stdout",
     "output_type": "stream",
     "text": [
      "this is  1 4  outputing from method1\n"
     ]
    }
   ],
   "source": [
    "obj2 = My_Class2(1,4)\n",
    "obj2.method1()"
   ]
  },
  {
   "cell_type": "markdown",
   "id": "82edae42-fd85-4572-b080-a03dba2e582d",
   "metadata": {},
   "source": [
    "## 1.2. Class variable\n",
    "\n",
    "When creating multiple objects under the same class, the data (attributes) of each objects will be individually stored at different memory locations, while the functions (methods) will be stored and shared the same piece of memory (there is no reason to make multiple copies of the same function). So what if we want to create some data that can be shared by all objects of the same class? For example, making a contact list that is shared by all people? \n",
    "\n",
    "Python's class allows us to set up class variables which serve this purpose. The class variables can be added simply after the `class` statement. When we want to read or write this class variable outside of the class's definition, we can call it by the syntax `ClassName.varName`."
   ]
  },
  {
   "cell_type": "code",
   "execution_count": 6,
   "id": "10aec305-45d4-456a-a522-e72f047c2b88",
   "metadata": {},
   "outputs": [],
   "source": [
    "class People:\n",
    "    contact_list = {}        # define the class variable call contact_list as a dictionary, initialize to be empty\n",
    "    \n",
    "    def __init__(self, name, phone):\n",
    "        self.name = name\n",
    "        self.phone = phone\n",
    "        People.contact_list[name] = phone    # adding items to the \"contact_list\" variable under \"People\" class\n",
    "        \n",
    "        # Note that we can call by self.contact_list inside the class definition as well\n",
    "    "
   ]
  },
  {
   "cell_type": "code",
   "execution_count": 7,
   "id": "077723ed-b034-43ae-a582-4dc7d0dada09",
   "metadata": {},
   "outputs": [
    {
     "data": {
      "text/plain": [
       "{'Tom': 123456, 'Mary': 789012}"
      ]
     },
     "execution_count": 7,
     "metadata": {},
     "output_type": "execute_result"
    }
   ],
   "source": [
    "p1 = People(\"Tom\", 123456)\n",
    "p2 = People(\"Mary\", 789012)\n",
    "\n",
    "People.contact_list    # reading the \"contact_list\" variable under \"People\" class from outside of the class's definition"
   ]
  },
  {
   "cell_type": "markdown",
   "id": "4af1327d-5b11-4e6e-86ed-d66972872140",
   "metadata": {},
   "source": [
    "## 1.3. Access control\n",
    "\n",
    "In many language like C++, we can control what can access of attributes/methods of a class. Usually the level of access is divided into 3 levels: \n",
    "\n",
    "- **Private** - only methods within the same class can access them. \n",
    "- **Protected** - only methods from the same class, or any subclass that are derived from this class (i.e. inheritance) can access them. \n",
    "- **Public** - Any function can access them.\n",
    "\n",
    "The idea of access control gives convenience to abstraction and security to data. For example, in a `student` object, we expect the `id` of the student should never be edited after created. Then we can set the `id` to be a private attribute and add a public `.read_id()` method, so that we can retrieve the student's ID, but we have no way to edit it.\n",
    "\n",
    "***However Python is an exception*** - every attributes/methods are public. There is no way to restrict the user from calling attributes/methods that are supposed to be private. Python programmer follow the conventions:\n",
    "\n",
    "- **The weaker version** - Prefix the internal attribute or method with an underscore character i.e. `_`, as a reminder that this variable should not be called outside of the object. However the attribute or method is still callable as `_varName`. \n",
    "\n",
    "- **The stronger version** - Prefix the internal attribute or method with double underscore i.e. `__`. This technique is called **name mangling**. This will change the attribute or method's name into the form `_ClassName__varName`, thus adding extra steps to make it more annoying to be called outside the object.\n"
   ]
  },
  {
   "cell_type": "code",
   "execution_count": 8,
   "id": "641d70e8-7d66-407c-9d1f-4292eefc3e54",
   "metadata": {},
   "outputs": [],
   "source": [
    "class Student:\n",
    "    def __init__(self, name, ID):\n",
    "        self._name = name        # the weaker version\n",
    "        self.__id = ID           # the stronger version\n",
    "  \n",
    "    def display_student(self):\n",
    "        print(\"Student \", self._name, \" with ID \", self.__id)\n",
    "  "
   ]
  },
  {
   "cell_type": "code",
   "execution_count": 9,
   "id": "6095925d-2072-440a-a6bb-45bc1e2b134b",
   "metadata": {},
   "outputs": [
    {
     "name": "stdout",
     "output_type": "stream",
     "text": [
      "Student  ABC  with ID  12345\n",
      "student's name is  ABC\n"
     ]
    },
    {
     "ename": "AttributeError",
     "evalue": "'Student' object has no attribute '__id'",
     "output_type": "error",
     "traceback": [
      "\u001b[1;31m---------------------------------------------------------------------------\u001b[0m",
      "\u001b[1;31mAttributeError\u001b[0m                            Traceback (most recent call last)",
      "Input \u001b[1;32mIn [9]\u001b[0m, in \u001b[0;36m<cell line: 10>\u001b[1;34m()\u001b[0m\n\u001b[0;32m      7\u001b[0m \u001b[38;5;28mprint\u001b[39m(\u001b[38;5;124m\"\u001b[39m\u001b[38;5;124mstudent\u001b[39m\u001b[38;5;124m'\u001b[39m\u001b[38;5;124ms name is \u001b[39m\u001b[38;5;124m\"\u001b[39m, s\u001b[38;5;241m.\u001b[39m_name)\n\u001b[0;32m      9\u001b[0m \u001b[38;5;66;03m# but attribute with 2 underscores cannot be accessed by its original name (error should occur)\u001b[39;00m\n\u001b[1;32m---> 10\u001b[0m \u001b[38;5;28mprint\u001b[39m(\u001b[38;5;124m\"\u001b[39m\u001b[38;5;124mstudent\u001b[39m\u001b[38;5;124m'\u001b[39m\u001b[38;5;124ms ID is \u001b[39m\u001b[38;5;124m\"\u001b[39m, \u001b[43ms\u001b[49m\u001b[38;5;241;43m.\u001b[39;49m\u001b[43m__id\u001b[49m)\n",
      "\u001b[1;31mAttributeError\u001b[0m: 'Student' object has no attribute '__id'"
     ]
    }
   ],
   "source": [
    "s = Student(\"ABC\", \"12345\")\n",
    "\n",
    "# Any method of the object can access the attributes as normal\n",
    "s.display_student()\n",
    "  \n",
    "# attribute with only 1 underscore can still be accessed outside as normal\n",
    "print(\"student's name is \", s._name)\n",
    "\n",
    "# but attribute with 2 underscores cannot be accessed by its original name (error should occur)\n",
    "print(\"student's ID is \", s.__id)\n"
   ]
  },
  {
   "cell_type": "code",
   "execution_count": 10,
   "id": "bc52a4cf-4829-4319-b155-3eb185d14658",
   "metadata": {},
   "outputs": [
    {
     "name": "stdout",
     "output_type": "stream",
     "text": [
      "['_Student__id', '__class__', '__delattr__', '__dict__', '__dir__', '__doc__', '__eq__', '__format__', '__ge__', '__getattribute__', '__gt__', '__hash__', '__init__', '__init_subclass__', '__le__', '__lt__', '__module__', '__ne__', '__new__', '__reduce__', '__reduce_ex__', '__repr__', '__setattr__', '__sizeof__', '__str__', '__subclasshook__', '__weakref__', '_name', 'display_student']\n",
      "\n",
      " student's ID is  12345\n"
     ]
    }
   ],
   "source": [
    "# We can obtain a list of available attributes and methods of the object via the dir() function\n",
    "print(dir(s))\n",
    "\n",
    "# We can see the \"__id\" attribute's name is changed to \"_Student__id\". With this we can access the id outside the object\n",
    "print(\"\\n student's ID is \", s._Student__id)\n"
   ]
  },
  {
   "cell_type": "markdown",
   "id": "04d383df-9712-4ef4-b203-1c8773585d0f",
   "metadata": {},
   "source": [
    "---\n",
    "# 2. Inheritance\n",
    "\n",
    "If we make multiple copies of the same or similar code in different places, it will become a nightmare when we come to bug fixing. To avoid this problem, we hope to reuse the same piece of code whenever possible. In OOP, this technique is called \"inheritance\", i.e. defining a \"parents-children\" relation between class definitions. In textbooks you may see the terminologies:\n",
    "\n",
    "- **Superclass** = The parent class. For containing the most common logics shared by all subclasses.\n",
    "- **Subclass** = The child class. For extending specific details from the superclass. \n",
    "\n",
    "## 2.1 Basic inheritance\n",
    "\n",
    "Technically, every class in Python we create uses inheritance. All Python classes are subclasses of the special built-in class named `object`. If no arguments are supplied to the `class` statement, the user-definied class automatically inherits from `object`."
   ]
  },
  {
   "cell_type": "code",
   "execution_count": 11,
   "id": "6109aeec-27ec-4c4b-a960-26bddfed2354",
   "metadata": {},
   "outputs": [],
   "source": [
    "### These two syntax are equivalent\n",
    "\n",
    "class My_Class3:\n",
    "    def __init__(self, prop1, prop2):\n",
    "        self.attribute1 = prop1\n",
    "        self.attribute2 = prop2\n",
    "\n",
    "########################\n",
    "\n",
    "class My_Class3(object):\n",
    "    def __init__(self, prop1, prop2):\n",
    "        self.attribute1 = prop1\n",
    "        self.attribute2 = prop2"
   ]
  },
  {
   "cell_type": "markdown",
   "id": "f5615e56-09b8-4b90-8e0e-2545974f1538",
   "metadata": {},
   "source": [
    "In a basic inheritance relation, the subclass will be able to access all attributes, methods and class variables of its superclass. In addition, the subclass can extend the superclass by providing more methods and class variable specific to this subclass. For example, extending the `People` class in the previous example by defining a subclass call `Friend`:"
   ]
  },
  {
   "cell_type": "code",
   "execution_count": 12,
   "id": "002bc8d2-92bb-4b2d-b886-216b2e17729f",
   "metadata": {},
   "outputs": [],
   "source": [
    "class People:\n",
    "    contact_list = {}\n",
    "    \n",
    "    def __init__(self, name, phone):\n",
    "        self.name = name\n",
    "        self.phone = phone\n",
    "        People.contact_list[name] = phone        \n",
    "        \n",
    "\n",
    "class Friend(People):    # Friend is a subclass of People\n",
    "    \n",
    "    # contact_list and attributes in __init__() are automatically inherited\n",
    "    # so the new object is added to the contact_list when created\n",
    "    \n",
    "    def play(self):\n",
    "        print('Today I play with ', self.name, '. His number is ', self.phone)    # we can access the attributes from the People class"
   ]
  },
  {
   "cell_type": "code",
   "execution_count": 13,
   "id": "11b59a11-b428-489d-b53f-fbb316901256",
   "metadata": {},
   "outputs": [
    {
     "name": "stdout",
     "output_type": "stream",
     "text": [
      "Today I play with  Eric . His number is  999999\n",
      "{'Tom': 123456, 'Mary': 789012, 'Eric': 999999}\n"
     ]
    }
   ],
   "source": [
    "p1 = People(\"Tom\", 123456)\n",
    "p2 = People(\"Mary\", 789012)\n",
    "f = Friend(\"Eric\", 999999)\n",
    "\n",
    "f.play()\n",
    "print(People.contact_list)\n"
   ]
  },
  {
   "cell_type": "markdown",
   "id": "b8a37d69-7d61-4245-99b2-3ad7908cf587",
   "metadata": {},
   "source": [
    "## 2.2. Overriding\n",
    "\n",
    "Note that if we define a method in the subclass of the same name as one of the method in the superclass, the original method in the superclass will be overwritten. This happens similarly to the `__init__()` function - if we define a new `__init__()` function in the subclass, all original attributes in the superclass will be lost, and substituted by the attribute in the new `__init__()`. "
   ]
  },
  {
   "cell_type": "code",
   "execution_count": 14,
   "id": "398c9a7c-9603-4fa4-8157-92e1c25ad5c2",
   "metadata": {},
   "outputs": [],
   "source": [
    "class People:\n",
    "    \n",
    "    def __init__(self, name, phone):\n",
    "        self.name = name\n",
    "        self.phone = phone\n",
    "        \n",
    "\n",
    "class Friend(People):    # Friend is a subclass of People\n",
    "    \n",
    "    def __init__(self, nickname):        # if the original __init__ is being replaced by this new one\n",
    "        self.nickname = nickname         # we cannot define a Friend object as like a People object anymore\n",
    "    \n",
    "    def play(self):\n",
    "        print('Today I play with ', self.name, '. His number is ', self.phone)    # and the name and phone attribute are no long accessible"
   ]
  },
  {
   "cell_type": "code",
   "execution_count": 15,
   "id": "c84ee76b-037f-4dce-b3d2-ea3ce1a8e882",
   "metadata": {},
   "outputs": [
    {
     "ename": "TypeError",
     "evalue": "__init__() takes 2 positional arguments but 3 were given",
     "output_type": "error",
     "traceback": [
      "\u001b[1;31m---------------------------------------------------------------------------\u001b[0m",
      "\u001b[1;31mTypeError\u001b[0m                                 Traceback (most recent call last)",
      "Input \u001b[1;32mIn [15]\u001b[0m, in \u001b[0;36m<cell line: 1>\u001b[1;34m()\u001b[0m\n\u001b[1;32m----> 1\u001b[0m f \u001b[38;5;241m=\u001b[39m \u001b[43mFriend\u001b[49m\u001b[43m(\u001b[49m\u001b[38;5;124;43m\"\u001b[39;49m\u001b[38;5;124;43mEric\u001b[39;49m\u001b[38;5;124;43m\"\u001b[39;49m\u001b[43m,\u001b[49m\u001b[43m \u001b[49m\u001b[38;5;241;43m999999\u001b[39;49m\u001b[43m)\u001b[49m    \u001b[38;5;66;03m# We cannot provide the phone number to create a Friend object anymore\u001b[39;00m\n\u001b[0;32m      3\u001b[0m f\u001b[38;5;241m.\u001b[39mplay()\n",
      "\u001b[1;31mTypeError\u001b[0m: __init__() takes 2 positional arguments but 3 were given"
     ]
    }
   ],
   "source": [
    "f = Friend(\"Eric\", 999999)    # We cannot provide the phone number to create a Friend object anymore\n",
    "\n",
    "f.play()"
   ]
  },
  {
   "cell_type": "markdown",
   "id": "0ee5ad11-86df-4e5c-9ee8-0aeff2c37420",
   "metadata": {},
   "source": [
    "The correct syntax would be using the function `super()`, which acts like an object from the superclass and allow us to use the parent's methods directly. \n",
    "\n",
    "- In `__init__()`, it acts like creating the attributes from the superclass first, then pass the attributes to the `__init__()` of the subclass to continue initiating the remaining attributes.\n",
    "\n",
    "- In other functions, it does exactly as calling the original methods in the superclass object. This is convenient if we want to create a method of the same name (i.e. overriding) that uses some results from the method of the superclass. "
   ]
  },
  {
   "cell_type": "code",
   "execution_count": 16,
   "id": "d686f715-f51c-4c26-a4b7-48dd839825c7",
   "metadata": {},
   "outputs": [],
   "source": [
    "class People:\n",
    "    \n",
    "    def __init__(self, name, phone):\n",
    "        self.name = name\n",
    "        self.phone = phone\n",
    "        \n",
    "    def play(self):\n",
    "        print('Today I play with ', self.name, '. His number is ', self.phone)\n",
    "\n",
    "        \n",
    "class Friend(People):    # Friend is a subclass of People\n",
    "    \n",
    "    def __init__(self, name, phone, nickname):\n",
    "        super().__init__(name, phone)              # initiate as an object from People class first, using super()\n",
    "        self.nickname = nickname                   # continue initiating with the attributes specific for Friend class\n",
    "    \n",
    "    def play(self):                                # the play() method of Friend class is overriding the original definition in People class\n",
    "        print('I have a friend called ', self.name, '. He has a nickname ', self.nickname)\n",
    "        super().play()                             # but we can still run the play() method of People class using super()"
   ]
  },
  {
   "cell_type": "code",
   "execution_count": 17,
   "id": "c987d9ca-f5e6-4d0d-a330-42854b74e9e3",
   "metadata": {},
   "outputs": [
    {
     "name": "stdout",
     "output_type": "stream",
     "text": [
      "I have a friend called  Eric . He has a nickname  King\n",
      "Today I play with  Eric . His number is  999999\n"
     ]
    }
   ],
   "source": [
    "f = Friend(\"Eric\", 999999, 'King')    \n",
    "\n",
    "f.play()"
   ]
  },
  {
   "cell_type": "markdown",
   "id": "a1eebf41-5c94-46a0-b559-f95cbacca304",
   "metadata": {
    "jp-MarkdownHeadingCollapsed": true,
    "tags": []
   },
   "source": [
    "## 2.3. Multiple inheritance\n",
    "\n",
    "There is no restriction in that a subclass can only inherit properties from one superclass only. However inheritance from multiple superclasses can lead to maintainance difficulty If we are adding/editing some methods of one superclass, we also have to go into other superclass of the same subclass to check if the new change can lead to new conflits. Therefore multiple inheritance is generally not recommended. \n",
    "\n",
    "You may check out the [diamond problem](https://www.geeksforgeeks.org/multiple-inheritance-in-python/), a common issue occuring when there are overlapping in the name of some attributes and methods from the superclass, and how Python deal with it."
   ]
  },
  {
   "cell_type": "markdown",
   "id": "8b8717fa-712d-45b3-9d89-81fa3f01fb7d",
   "metadata": {
    "tags": []
   },
   "source": [
    "## 2.4. Polymorphism\n",
    "\n",
    "Polymorphism is a fancy name that describe the concept: we would like to use the *same* interface to make carry out *different* operations, depending on what the data type the input is, i.e. **overloading the functions / operators of the interface**. As a example, the operator `+` can carry out addition to number, but can also do concatenation to strings. By overloading the operators in the programming language design can reduce the number of operators needed for different operation, and make the language more convenient to use.\n",
    "\n",
    "In OOP, the idea of polymorphism is applied to subclasses which are derived from the same superclass - **it could be convenient if we can use the same set of names of attributes and methods for all the subclasses**, even though the attributes and methods may carry similar but different values and functionalities. This kind of design principle is also called Liskov Substitution Principle.\n",
    "\n",
    "To achieve such design in Python, you can simply give the same name for the share-named attributes and methods. Take a look at the example:"
   ]
  },
  {
   "cell_type": "code",
   "execution_count": 18,
   "id": "0a6b8db2-cbf5-46fa-bccd-34efc7dd0a9c",
   "metadata": {},
   "outputs": [],
   "source": [
    "class AudioFile:\n",
    "    ext = None        # this line is optional, but serves as a reminder that the all subclass should hold a class variable \"ext\"\n",
    "    \n",
    "    def __init__(self, filepath):\n",
    "        if not filepath[-4:] == self.ext:\n",
    "            raise ValueError(\"Invalid file format\")\n",
    "        self.filepath = filepath\n",
    "        \n",
    "\n",
    "class MP3File(AudioFile):\n",
    "    ext = \".mp3\"\n",
    "    def play(self):\n",
    "        print(\"playing\", self.filepath, \"as mp3\")\n",
    "\n",
    "        \n",
    "class WavFile(AudioFile):\n",
    "    ext = \".wav\"\n",
    "    def play(self):\n",
    "        print(\"playing\", self.filepath, \"as wav\")"
   ]
  },
  {
   "cell_type": "code",
   "execution_count": 19,
   "id": "1a66cc03-77d7-42f7-9c3b-e7f37b4deb75",
   "metadata": {},
   "outputs": [
    {
     "name": "stdout",
     "output_type": "stream",
     "text": [
      ".mp3\n",
      "playing path1.mp3 as mp3\n",
      ".wav\n",
      "playing path2.wav as wav\n"
     ]
    }
   ],
   "source": [
    "# Both subclass share the class variable name \"ext\" and method name \"play()\", but contain different values or functionalities\n",
    "# Even then, we can use the same line of code to get their corresponding \"ext\" or run their \"play()\" method\n",
    "\n",
    "m1 = MP3File(\"path1.mp3\")\n",
    "m2 = WavFile(\"path2.wav\")\n",
    "\n",
    "for m in [m1,m2]:\n",
    "    print(m.ext)\n",
    "    m.play()\n"
   ]
  },
  {
   "cell_type": "markdown",
   "id": "44f165f2-fddb-4ad2-adbe-0a289c4d4ad8",
   "metadata": {},
   "source": [
    "In fact, OOP polymorphism in Python is made super easy thanks to the \"[duck typing](https://en.wikipedia.org/wiki/Duck_typing)\" in python - the type of a variable is not explicitly fixed, but can be used interchangeably as long as it supports the required methods. You can see in the below, even when `MP3File` and `OggFile` have no inheritance relation, the class variable and method of the same name can be used without any problem."
   ]
  },
  {
   "cell_type": "code",
   "execution_count": 20,
   "id": "712b8dd0-6762-422a-acd9-5ddb88655979",
   "metadata": {},
   "outputs": [],
   "source": [
    "class OggFile:    # OggFile class is not a subclass of AudioFile, but still has the \"ext\" attribute and \"play()\" method\n",
    "    ext = \".ogg\"\n",
    "    \n",
    "    def __init__(self, filepath):\n",
    "        if not filepath[-4:] == self.ext:\n",
    "            raise ValueError(\"Invalid file format\")\n",
    "        self.filepath = filepath\n",
    "        \n",
    "    def play(self):\n",
    "        print(\"playing\", self.filepath, \"as ogg\")"
   ]
  },
  {
   "cell_type": "code",
   "execution_count": 21,
   "id": "2618bc84-8315-4097-ac64-c51816abca56",
   "metadata": {},
   "outputs": [
    {
     "name": "stdout",
     "output_type": "stream",
     "text": [
      ".mp3\n",
      "playing path1.mp3 as mp3\n",
      ".wav\n",
      "playing path2.wav as wav\n",
      ".ogg\n",
      "playing path3.ogg as ogg\n"
     ]
    }
   ],
   "source": [
    "m1 = MP3File(\"path1.mp3\")\n",
    "m2 = WavFile(\"path2.wav\")\n",
    "m3 = OggFile(\"path3.ogg\")\n",
    "\n",
    "for m in [m1,m2,m3]:        # Even then, we can use the same line of code to get their corresponding \"ext\" or run their \"play()\" method\n",
    "    print(m.ext)\n",
    "    m.play()"
   ]
  }
 ],
 "metadata": {
  "kernelspec": {
   "display_name": "Python 3 (ipykernel)",
   "language": "python",
   "name": "python3"
  },
  "language_info": {
   "codemirror_mode": {
    "name": "ipython",
    "version": 3
   },
   "file_extension": ".py",
   "mimetype": "text/x-python",
   "name": "python",
   "nbconvert_exporter": "python",
   "pygments_lexer": "ipython3",
   "version": "3.11.5"
  }
 },
 "nbformat": 4,
 "nbformat_minor": 5
}
