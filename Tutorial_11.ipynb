{
 "cells": [
  {
   "cell_type": "markdown",
   "id": "e60fe1fe-13be-497a-b039-3f929b83c1d8",
   "metadata": {},
   "source": [
    "# MSDM5051 Tutorial 11 - More Untilities in Python II\n",
    "\n",
    "## Contents:\n",
    "\n",
    "1. Exception Handling\n",
    "2. Modules & Packages"
   ]
  },
  {
   "cell_type": "markdown",
   "id": "2ba0e1d5-4a72-40b6-abc2-cd2122a7db30",
   "metadata": {},
   "source": [
    "---\n",
    "# 1. Exception Handling\n",
    "\n",
    "Exceptions are objects specialized for storing information about the occurence of an error, and provide the standard interfaces for users/other programs to deal with its occurence. In Python, the words \"error\" and \"exception\" are used almost interchangeably, and they are dealt with\n",
    "in exactly the same way."
   ]
  },
  {
   "cell_type": "markdown",
   "id": "8ca3c803-2ccd-4af8-9327-67f196e603ea",
   "metadata": {},
   "source": [
    "## 1.1. Raising exceptions\n",
    "\n",
    "Exception not only can be created when there are mistakes in the code, but we can also produce them manually. In Python, we can use the keyword `raise` to manually create our own error, e.g. "
   ]
  },
  {
   "cell_type": "code",
   "execution_count": 1,
   "id": "b4ed0543-e7ee-4d55-a786-19d208cfc29f",
   "metadata": {},
   "outputs": [],
   "source": [
    "def my_error_function():\n",
    "    \n",
    "    print(\"This line can be printed normally\")              # anything before the raise keyword can be run normally\n",
    "    \n",
    "    raise Exception(\"My exception message\", \"hello\", 123)   # creating an Exception object containing the error message \n",
    "                                                            # in fact you can have any input here. the IDE simply print out all of them\n",
    "    \n",
    "    print(\"This line cannot be run\")                        # anything after the raise keyword cannot be run, including the return\n",
    "    \n",
    "    return \"This line can never be returned\""
   ]
  },
  {
   "cell_type": "code",
   "execution_count": 2,
   "id": "e0c943c9-6f8f-47ea-817d-709c1d29cc17",
   "metadata": {},
   "outputs": [
    {
     "name": "stdout",
     "output_type": "stream",
     "text": [
      "This line can be printed normally\n"
     ]
    },
    {
     "ename": "Exception",
     "evalue": "('My exception message', 'hello', 123)",
     "output_type": "error",
     "traceback": [
      "\u001b[1;31m---------------------------------------------------------------------------\u001b[0m",
      "\u001b[1;31mException\u001b[0m                                 Traceback (most recent call last)",
      "Cell \u001b[1;32mIn[2], line 1\u001b[0m\n\u001b[1;32m----> 1\u001b[0m \u001b[43mmy_error_function\u001b[49m\u001b[43m(\u001b[49m\u001b[43m)\u001b[49m\n",
      "Cell \u001b[1;32mIn[1], line 5\u001b[0m, in \u001b[0;36mmy_error_function\u001b[1;34m()\u001b[0m\n\u001b[0;32m      1\u001b[0m \u001b[38;5;28;01mdef\u001b[39;00m \u001b[38;5;21mmy_error_function\u001b[39m():\n\u001b[0;32m      3\u001b[0m     \u001b[38;5;28mprint\u001b[39m(\u001b[38;5;124m\"\u001b[39m\u001b[38;5;124mThis line can be printed normally\u001b[39m\u001b[38;5;124m\"\u001b[39m)              \u001b[38;5;66;03m# anything before the raise keyword can be run normally\u001b[39;00m\n\u001b[1;32m----> 5\u001b[0m     \u001b[38;5;28;01mraise\u001b[39;00m \u001b[38;5;167;01mException\u001b[39;00m(\u001b[38;5;124m\"\u001b[39m\u001b[38;5;124mMy exception message\u001b[39m\u001b[38;5;124m\"\u001b[39m, \u001b[38;5;124m\"\u001b[39m\u001b[38;5;124mhello\u001b[39m\u001b[38;5;124m\"\u001b[39m, \u001b[38;5;241m123\u001b[39m)   \u001b[38;5;66;03m# creating an Exception object containing the error message \u001b[39;00m\n\u001b[0;32m      6\u001b[0m                                                             \u001b[38;5;66;03m# in fact you can have any input here. the IDE simply print out all of them\u001b[39;00m\n\u001b[0;32m      8\u001b[0m     \u001b[38;5;28mprint\u001b[39m(\u001b[38;5;124m\"\u001b[39m\u001b[38;5;124mThis line cannot be run\u001b[39m\u001b[38;5;124m\"\u001b[39m)                        \u001b[38;5;66;03m# anything after the raise keyword cannot be run, including the return\u001b[39;00m\n",
      "\u001b[1;31mException\u001b[0m: ('My exception message', 'hello', 123)"
     ]
    }
   ],
   "source": [
    "my_error_function()"
   ]
  },
  {
   "cell_type": "markdown",
   "id": "6c8b1e11-d0b5-4223-87f9-18d8096fad16",
   "metadata": {},
   "source": [
    "Whenever an exception is raised, the current running function will terminate immediately and return an `Exception` object. If there are no further instructions how this exception should be handled, normally our IDE will print out the message of the exception, together with the \"traceback\" about on which line the exception is raised. "
   ]
  },
  {
   "cell_type": "markdown",
   "id": "05d1e745-4bd0-4242-b1c5-7f75da63417f",
   "metadata": {
    "tags": []
   },
   "source": [
    "## 1.2. Catching exceptions\n",
    "\n",
    "A function that can only raise exceptions and terminate is pretty useless. Often we would like to take further steps after encountering the exception. In programming jargon, this is called \"catching an exception\" (the error can suddenly appear from nowhere, so we have to \"catch\" it). In Python, we use the `try-except` clauses to define what to do after finding the error during a run of a function.\n",
    "\n",
    "- `try` - For running the tasks we want.\n",
    "\n",
    "- `except` - When an exception is detected in the `try` clause, the `except` clause will \"catch\" it. Tasks running in `try` will terminate, and instructions in `except` will be run instead. The exception message will not be printed out.\n",
    "\n",
    "- `else` - If no exception is raised during the process, or if the type of exceptions raised do not match with that in the `except` clause, instructions in `else` will run after the `try` clause finishes. \n",
    "\n",
    "- `finally` - Instructions inside will always run at the end, no matter if any exception is raised or not."
   ]
  },
  {
   "cell_type": "code",
   "execution_count": 3,
   "id": "c7b8412e-125d-4b9a-b25d-99aa463c38ff",
   "metadata": {},
   "outputs": [],
   "source": [
    "# In practice, it just makes more sense to separate the exception handling from the original function\n",
    "# By wrapping these instructions into a decorator, we can resue it on any functions we want\n",
    "\n",
    "def my_exception_handler(func):\n",
    "    \n",
    "    def f(*args, **kwargs): \n",
    "        \n",
    "        # Take a revision on decorator if you forgot it!\n",
    "        ################################################                       \n",
    "        try: \n",
    "            result = func(*args, **kwargs)                        # run func() like normal\n",
    "        \n",
    "        except Exception as ex:\n",
    "            print(ex.args)                                        # input of the Exception object are stored in the .args attribute\n",
    "            return \"return this line when something went wrong\"   # you can also return anything else\n",
    "        \n",
    "        else:\n",
    "            print(\"Everything runs smoothly\")                     \n",
    "            return result                                         # return whatever the function should return\n",
    "            \n",
    "        finally:\n",
    "            print(\"This line always runs at the end, before the function's result return\")\n",
    "        ################################################\n",
    "            \n",
    "    return f"
   ]
  },
  {
   "cell_type": "code",
   "execution_count": 4,
   "id": "6d5c86f3-adac-418d-880b-4abc1bdc4181",
   "metadata": {},
   "outputs": [],
   "source": [
    "@my_exception_handler\n",
    "def input_must_be_even(num):\n",
    "    \n",
    "    if num%2:\n",
    "        raise Exception(str(num)+ \" is not even\", \"hello\", 123)      # this exception will be caught by the except clause\n",
    "        \n",
    "    print(num, \" is an even number\")\n",
    "    \n",
    "    return num/2\n",
    "    "
   ]
  },
  {
   "cell_type": "code",
   "execution_count": 5,
   "id": "8ccff6f6-7824-48fc-a23d-6af69348bfc4",
   "metadata": {},
   "outputs": [
    {
     "name": "stdout",
     "output_type": "stream",
     "text": [
      "2  is an even number\n",
      "Everything runs smoothly\n",
      "This line always runs at the end, before the function's result return\n"
     ]
    },
    {
     "data": {
      "text/plain": [
       "1.0"
      ]
     },
     "execution_count": 5,
     "metadata": {},
     "output_type": "execute_result"
    }
   ],
   "source": [
    "input_must_be_even(2)"
   ]
  },
  {
   "cell_type": "code",
   "execution_count": 6,
   "id": "e875d6c6-d8be-4801-a271-ae5c1656e745",
   "metadata": {},
   "outputs": [
    {
     "name": "stdout",
     "output_type": "stream",
     "text": [
      "('3 is not even', 'hello', 123)\n",
      "This line always runs at the end, before the function's result return\n"
     ]
    },
    {
     "data": {
      "text/plain": [
       "'return this line when something went wrong'"
      ]
     },
     "execution_count": 6,
     "metadata": {},
     "output_type": "execute_result"
    }
   ],
   "source": [
    "input_must_be_even(3)"
   ]
  },
  {
   "cell_type": "markdown",
   "id": "8bbb797f-c7ca-4819-a0d5-a809aa947aff",
   "metadata": {},
   "source": [
    "The `with` statement is a variation of the `try-finally` clause\n",
    "\n"
   ]
  },
  {
   "cell_type": "markdown",
   "id": "37dd868a-113c-42d4-812d-7f456d9c719c",
   "metadata": {},
   "source": [
    "## 1.3. Built-in exception sub-classes\n",
    "\n",
    "Python has a lot of built-in exceptions classes, which can handle most of the common errors in normal use. Anyone with Python experience should have seen them at least once, for example:\n",
    "\n",
    "- `SyntaxError` - E.g. Missing brackets, missing a `:` in the `if`/`for`, etc.\n",
    "\n",
    "- `IndexError` - E.g. Searching with an array index that exceed the size of the array.\n",
    "\n",
    "- `TypeError` - E.g. The function input's data type is different from what is expected.\n",
    "\n",
    "- `RunTimeError` - Raised whenever the error does not match any existing types of exception.\n",
    "\n",
    "- ...\n",
    "\n",
    "You can find the full list of built-in exceptions [here](https://docs.python.org/3/library/exceptions.html). In fact, most built-in exceptions are derived from the `Exception` base class (The \"Exception()\" we have been using to construct the exception message in the above examples). We can design a handler that can deal with different types of exceptions differently by stacking multiple `except` clauses:"
   ]
  },
  {
   "cell_type": "code",
   "execution_count": 7,
   "id": "2cab833c-6a60-4952-837a-fb27bd0ae262",
   "metadata": {},
   "outputs": [],
   "source": [
    "def my_exception_handler_2(func):\n",
    "    \n",
    "    def f(*args, **kwargs): \n",
    "        \n",
    "        ################################################                       \n",
    "        try: \n",
    "            return func(*args, **kwargs)\n",
    "        \n",
    "        except ZeroDivisionError:                                # Instructions when catching ZeroDivisionError\n",
    "            print(\"You can't divide by 0\")\n",
    "        except (TypeError, ValueError):                          # Instructions when catching either TypeError or ValueError\n",
    "            print(\"Only positive numbers, OK?\")\n",
    "        except Exception:                                        # Instructions when catching any other kinds of exception that are\n",
    "            print(\"Somethings wrong but I have no idea why\")     # derived from the Exception base class    \n",
    "\n",
    "        ################################################\n",
    "            \n",
    "    return f\n"
   ]
  },
  {
   "cell_type": "code",
   "execution_count": 8,
   "id": "8ef08182-b38a-4662-bb0e-4958d89b1114",
   "metadata": {},
   "outputs": [],
   "source": [
    "@my_exception_handler_2\n",
    "def positive_num_division(a,b):\n",
    "    \n",
    "    if a < 0 or b < 0:\n",
    "        raise ValueError(\"Both numbers should be larger than 0\")\n",
    "        \n",
    "    print(a//b)"
   ]
  },
  {
   "cell_type": "code",
   "execution_count": 9,
   "id": "c4b8d4b2-4364-488d-8d3e-e094858bb3c8",
   "metadata": {},
   "outputs": [
    {
     "name": "stdout",
     "output_type": "stream",
     "text": [
      "3\n",
      "Only positive numbers, OK?\n",
      "You can't divide by 0\n",
      "Only positive numbers, OK?\n"
     ]
    }
   ],
   "source": [
    "positive_num_division(12,4)        # Okay\n",
    "positive_num_division(-1,4)        # ValueError\n",
    "positive_num_division(9,0)         # ZeroDivisionError\n",
    "positive_num_division([1,2,3],6)   # TypeError"
   ]
  },
  {
   "cell_type": "markdown",
   "id": "93117471-3f2c-4360-8bf3-fa077b8ea057",
   "metadata": {},
   "source": [
    "Note that there a few built-in exceptions that are not derived from the `Exception` base class because they serve special purposes. This is by design so that they are not accidentally caught when we call the general `Exception` class in the `except` clause.\n",
    "\n",
    "- `KeyboardInterrupt` - Raised when the user manually terminating the program through special key press.\n",
    "\n",
    "- `SystemExit` - Raised by the program itself when the program finishes running. \n",
    "\n",
    "Normally when these two exceptions are caught, they should be raised again after some further processing by the exception handling function, or else the program will never truly terminate.\n"
   ]
  },
  {
   "cell_type": "markdown",
   "id": "4643db3c-686a-4b43-9b38-f56c65e80990",
   "metadata": {},
   "source": [
    "## 1.4 `assert`\n",
    "\n",
    "The `assert` statement is a simple tool for debugging, mainly when one wants to ensure that certain conditions or assumptions hold true during running the program (Although most people prefer using `print()`). When the condition is not met, an exception of the specific class `AssertionError` will be raise."
   ]
  },
  {
   "cell_type": "code",
   "execution_count": 10,
   "id": "acef6a6d-6c9f-46e4-9572-4135d93c8f82",
   "metadata": {
    "tags": []
   },
   "outputs": [
    {
     "name": "stdout",
     "output_type": "stream",
     "text": [
      "2\n"
     ]
    },
    {
     "ename": "AssertionError",
     "evalue": "my error msg 2",
     "output_type": "error",
     "traceback": [
      "\u001b[1;31m---------------------------------------------------------------------------\u001b[0m",
      "\u001b[1;31mAssertionError\u001b[0m                            Traceback (most recent call last)",
      "Cell \u001b[1;32mIn[10], line 7\u001b[0m\n\u001b[0;32m      4\u001b[0m \u001b[38;5;28;01massert\u001b[39;00m a\u001b[38;5;241m+\u001b[39mb \u001b[38;5;241m==\u001b[39m \u001b[38;5;241m2\u001b[39m, \u001b[38;5;124m\"\u001b[39m\u001b[38;5;124mmy error msg 1\u001b[39m\u001b[38;5;124m\"\u001b[39m        \u001b[38;5;66;03m# the condition \"a+b == 2\" is true. Program continues\u001b[39;00m\n\u001b[0;32m      5\u001b[0m \u001b[38;5;28mprint\u001b[39m(a\u001b[38;5;241m+\u001b[39mb)\n\u001b[1;32m----> 7\u001b[0m \u001b[38;5;28;01massert\u001b[39;00m a\u001b[38;5;241m+\u001b[39mb \u001b[38;5;241m==\u001b[39m \u001b[38;5;241m3\u001b[39m, \u001b[38;5;124m\"\u001b[39m\u001b[38;5;124mmy error msg 2\u001b[39m\u001b[38;5;124m\"\u001b[39m        \u001b[38;5;66;03m# the condition \"a+b == 3\" is false. Print the error message and terminate\u001b[39;00m\n\u001b[0;32m      8\u001b[0m \u001b[38;5;28mprint\u001b[39m(a\u001b[38;5;241m+\u001b[39mb)\n",
      "\u001b[1;31mAssertionError\u001b[0m: my error msg 2"
     ]
    }
   ],
   "source": [
    "a = 1\n",
    "b = 1\n",
    "\n",
    "assert a+b == 2, \"my error msg 1\"        # the condition \"a+b == 2\" is true. Program continues\n",
    "print(a+b)\n",
    "\n",
    "assert a+b == 3, \"my error msg 2\"        # the condition \"a+b == 3\" is false. Print the error message and terminate\n",
    "print(a+b)"
   ]
  },
  {
   "cell_type": "markdown",
   "id": "966c4b5d-678e-449b-a3a5-77e92762aa18",
   "metadata": {},
   "source": [
    "## 1.5. Custom Exceptions\n",
    "\n",
    "We can create our own type of exception objects by inheriting the `Exception` base class or any of its sub-classes. Custom exceptions are truely helpful when we are developing frameworks/libraries/API... which are intended to be accessed by other developers. With custom exceptions, we can provide more sensible information about any bugs to the client programmers. "
   ]
  },
  {
   "cell_type": "code",
   "execution_count": 11,
   "id": "751df78a-4b49-4029-8bf3-303fe6a2627a",
   "metadata": {},
   "outputs": [],
   "source": [
    "# Custom exception are still objects so you can always add your own attributes and methods\n",
    "class isListError(ValueError):\n",
    "    def __init__(self, a, b):\n",
    "        super().__init__(a,b)\n",
    "        self.input1 = a\n",
    "        self.input2 = b\n",
    "        self.msg = \"This function is for integer input only. Here is your result but please don't do this again.\"\n",
    "        \n",
    "    def divide_one_by_one(self):\n",
    "        return [self.input1[i]//self.input2[i] for i in range(len(self.input2))]"
   ]
  },
  {
   "cell_type": "code",
   "execution_count": 12,
   "id": "359d548e-bbb9-437b-8bb3-8dcf446729e0",
   "metadata": {},
   "outputs": [],
   "source": [
    "def my_exception_handler_3(func):\n",
    "    \n",
    "    def f(*args, **kwargs): \n",
    "        \n",
    "        ################################################                       \n",
    "        try: \n",
    "            return func(*args, **kwargs)\n",
    "        \n",
    "        except isListError as ex:                             # because isListError is inherited from ValueError, \n",
    "            print(ex.msg)                                     # it should be checked before the general ValueError check\n",
    "            print(ex.divide_one_by_one())\n",
    "             \n",
    "        except ZeroDivisionError:\n",
    "            print(\"You can't divide by 0\")\n",
    "        except (TypeError, ValueError):\n",
    "            print(\"Only positive numbers, OK?\")\n",
    "        except Exception:\n",
    "            print(\"Somethings wrong but I have no idea why\")\n",
    "\n",
    "        ################################################\n",
    "            \n",
    "    return f\n"
   ]
  },
  {
   "cell_type": "code",
   "execution_count": 13,
   "id": "1d396e84-68b9-4272-b08f-5553a542d10a",
   "metadata": {},
   "outputs": [],
   "source": [
    "@my_exception_handler_3\n",
    "def positive_num_division(a,b):\n",
    "    \n",
    "    if len(a) > 1 and len(b) > 1:\n",
    "        raise isListError(a,b)\n",
    "        \n",
    "    if a < 0 or b < 0:\n",
    "        raise ValueError(\"Both numbers should be larger than 0\")\n",
    "        \n",
    "    print(a//b)"
   ]
  },
  {
   "cell_type": "code",
   "execution_count": 14,
   "id": "ff165906-4d5b-4d36-b38a-ecce50e9e61a",
   "metadata": {},
   "outputs": [
    {
     "name": "stdout",
     "output_type": "stream",
     "text": [
      "This function is for integer input only. Here is your result but please don't do this again.\n",
      "[4, 2, 2]\n"
     ]
    }
   ],
   "source": [
    "positive_num_division([4,5,6],[1,2,3])"
   ]
  },
  {
   "cell_type": "markdown",
   "id": "3cb9c104-93b2-4f6b-81a4-403c4377ce8e",
   "metadata": {},
   "source": [
    "---\n",
    "# 2. Modules & Package\n",
    "\n",
    "Up to this point, you should have at least some experience of using some popular libraries in Python, e.g. `numpy`, `matplotlib`, etc. But what exactly constitue a library? The answer is, they are no more than a bundle of `.py` files that contain definitions and statements to be used by the library.  \n"
   ]
  },
  {
   "cell_type": "markdown",
   "id": "dca790d0-eb30-4b4e-8b93-229d6c4ea0cd",
   "metadata": {},
   "source": [
    "## 2.1. All `.py` are modules\n",
    "\n",
    "In Python jargon, any `.py` files that make up of a library are called **modules**. But technically speaking, every `.py` file we write can be used as a module, even a very simple one. For demonstration, I have created a file `tutorial_11.py` in the same folder with this jupyter notebook. The file contains the following texts:\n",
    "\n",
    "```python\n",
    "code = 5051\n",
    "\n",
    "def get_course():\n",
    "    print(\"My course is　MSDM5051\")\n",
    "    \n",
    "class Student:\n",
    "    \n",
    "    def __init__(self, name, grade):\n",
    "        self.name = name\n",
    "        self.grade = grade\n",
    "        \n",
    "    def study(self):\n",
    "        print(self.name, \" is studying hard. He gets a \", self.grade, \" in this course.\")\n",
    "```\n",
    "\n",
    "Using the `import` keyword, we can access the variables, functions and classes defined in the file:"
   ]
  },
  {
   "cell_type": "code",
   "execution_count": 15,
   "id": "64e2b11c-054c-4d2b-814f-6f45b45e9521",
   "metadata": {},
   "outputs": [
    {
     "name": "stdout",
     "output_type": "stream",
     "text": [
      "5051\n",
      "My course is　MSDM5051\n",
      "Tom  is studying hard. He gets a  A+  in this course.\n"
     ]
    }
   ],
   "source": [
    "import tutorial_11                         # module's name must be the same as the .py file.  \n",
    "\n",
    "print(tutorial_11.code)                    # print the \"code\" variable defined in the tutorial10 module\n",
    "\n",
    "tutorial_11.get_course()                   # run the \"get_course()\" function defined in the tutorial10 module\n",
    "\n",
    "tom = tutorial_11.Student(\"Tom\" , \"A+\")    # create a \"Student\" object using the class definition in the tutorial_11 module\n",
    "tom.study()"
   ]
  },
  {
   "cell_type": "markdown",
   "id": "1537c4c9-c860-42b1-a181-74c4a20628c8",
   "metadata": {},
   "source": [
    "That's it! The file `tutorial_11.py` is now being used as a module. With modules, we can \"modularize\" our program by putting utility functions into separate files and import them only when needed, making the main program tidy and manageable. \n",
    "\n",
    "**Note:** In convention, modules' name should be short and only contain lowercase letters. Underscores `_` can be used if necessary, although not encouraged. "
   ]
  },
  {
   "cell_type": "markdown",
   "id": "bbc215a4-3b7e-4de9-99d4-7a6cf52675e4",
   "metadata": {},
   "source": [
    "## 2.2 Importing a module\n",
    "\n",
    "We already know that we can use the keyword `import` to import the `.py` module we need. In fact, there are multiple ways to import a module:\n",
    "\n",
    "- **Import solely the module name** - Equivalently to importing all definitions in the module. In the case we need to prefix each variable we want to use by the module's name."
   ]
  },
  {
   "cell_type": "code",
   "execution_count": null,
   "id": "7ada6006-f7f1-45b9-983e-89b64e44a227",
   "metadata": {},
   "outputs": [],
   "source": [
    "# This is for clearing any definitions in previous cells in jupyter notebook\n",
    "%reset \n",
    "\n",
    "# you need to prefix `.tutorial_11` in front of every variables/functions/class defined in the module\n",
    "import tutorial_11\n",
    "\n",
    "print(tutorial_11.code)\n",
    "tutorial_11.get_course()\n",
    "tutorial_11.Student(\"Tom\" , \"A+\")\n",
    "\n",
    "# Also possible to replace the prefix by a shorter name\n",
    "import tutorial_11 as t11\n",
    "\n",
    "print(t11.code)\n",
    "t11.get_course()\n",
    "t11.Student(\"Tom\", \"A+\")"
   ]
  },
  {
   "cell_type": "markdown",
   "id": "418a815d-0249-40ba-b748-ef0827a1a763",
   "metadata": {},
   "source": [
    "- **Import individual objects** - Import the definitions one by one. This is useful when the module contains too many definitions but we only need some specific ones in our task. In this case we don't need to prefix the variable with the module name."
   ]
  },
  {
   "cell_type": "code",
   "execution_count": null,
   "id": "e7540208-fb16-4234-a081-9c6ff097cfb6",
   "metadata": {},
   "outputs": [],
   "source": [
    "# This is for clearing any definitions in previous cells in jupyter notebook\n",
    "%reset \n",
    "\n",
    "from tutorial_11 import code, get_course        # `code` and `get_course` can be directly called\n",
    "from tutorial_11 import Student as Stud         # Student object can be created with the shorter name `Stud`\n",
    "\n",
    "print(code)\n",
    "get_course()\n",
    "Stud(\"Tom\", \"A+\")"
   ]
  },
  {
   "cell_type": "markdown",
   "id": "250bea4f-575b-465e-9e51-6f4100e263d8",
   "metadata": {},
   "source": [
    "- **Import a specific list of objects defined by the module** - If the module file has defined a variable `__all__` that contains a list of variable names, importing with `*` will import only those definitions in the list. Otherwise, it will import all defintions as individual objects, like the example above.\n",
    "  "
   ]
  },
  {
   "cell_type": "code",
   "execution_count": null,
   "id": "ffc9cce4-a69b-4897-81e0-76126dc500be",
   "metadata": {},
   "outputs": [],
   "source": [
    "# This is for clearing any definitions in previous cells in jupyter notebook\n",
    "%reset \n",
    "\n",
    "# If you have this line at the start of tutorial_11.py\n",
    "# __all__ = [\"code\", \"Student\"]\n",
    "\n",
    "# Then importing with * will only import the definitions of `code` and `Student`\n",
    "from tutorial_11 import *\n",
    "\n",
    "print(code)               # code is imported --> ok\n",
    "Stud(\"Tom\", \"A+\")         # Student is imported --> ok\n",
    "get_course()              # get_course() is NOT imported --> raise error "
   ]
  },
  {
   "cell_type": "markdown",
   "id": "dcca5909-277d-4cbc-8c46-06dcfebdc880",
   "metadata": {},
   "source": [
    "## 2.3. Deleting a module\n",
    "\n",
    "Although rarely needed, we can remove an imported module by `del()`. Interestingly, in this way we can remove the imported definitions, but any objects created using those definitions will not be deleted. For example,"
   ]
  },
  {
   "cell_type": "code",
   "execution_count": 16,
   "id": "8358ba64-1b64-47f7-b452-3b74556cb7f2",
   "metadata": {},
   "outputs": [],
   "source": [
    "del tutorial_11"
   ]
  },
  {
   "cell_type": "code",
   "execution_count": 17,
   "id": "71bced5c-834b-4e7e-8998-c9b2907127ad",
   "metadata": {},
   "outputs": [
    {
     "ename": "NameError",
     "evalue": "name 'tutorial_11' is not defined",
     "output_type": "error",
     "traceback": [
      "\u001b[1;31m---------------------------------------------------------------------------\u001b[0m",
      "\u001b[1;31mNameError\u001b[0m                                 Traceback (most recent call last)",
      "Cell \u001b[1;32mIn[17], line 1\u001b[0m\n\u001b[1;32m----> 1\u001b[0m \u001b[43mtutorial_11\u001b[49m\u001b[38;5;241m.\u001b[39mcode                    \u001b[38;5;66;03m# defintion of a variable from the module is removed\u001b[39;00m\n",
      "\u001b[1;31mNameError\u001b[0m: name 'tutorial_11' is not defined"
     ]
    }
   ],
   "source": [
    "tutorial_11.code                    # defintion of a variable from the module is removed"
   ]
  },
  {
   "cell_type": "code",
   "execution_count": 18,
   "id": "e91fb9db-b3fb-4a94-9ccb-d1e1db9ce3d6",
   "metadata": {},
   "outputs": [
    {
     "ename": "NameError",
     "evalue": "name 'tutorial_11' is not defined",
     "output_type": "error",
     "traceback": [
      "\u001b[1;31m---------------------------------------------------------------------------\u001b[0m",
      "\u001b[1;31mNameError\u001b[0m                                 Traceback (most recent call last)",
      "Cell \u001b[1;32mIn[18], line 1\u001b[0m\n\u001b[1;32m----> 1\u001b[0m \u001b[43mtutorial_11\u001b[49m\u001b[38;5;241m.\u001b[39mget_course()            \u001b[38;5;66;03m# definition of function from the module is removed\u001b[39;00m\n",
      "\u001b[1;31mNameError\u001b[0m: name 'tutorial_11' is not defined"
     ]
    }
   ],
   "source": [
    "tutorial_11.get_course()            # definition of function from the module is removed"
   ]
  },
  {
   "cell_type": "code",
   "execution_count": 19,
   "id": "f34aa791-82b6-4c17-b73f-cc9b65aa5f95",
   "metadata": {},
   "outputs": [
    {
     "ename": "NameError",
     "evalue": "name 'tutorial_11' is not defined",
     "output_type": "error",
     "traceback": [
      "\u001b[1;31m---------------------------------------------------------------------------\u001b[0m",
      "\u001b[1;31mNameError\u001b[0m                                 Traceback (most recent call last)",
      "Cell \u001b[1;32mIn[19], line 1\u001b[0m\n\u001b[1;32m----> 1\u001b[0m \u001b[43mtutorial_11\u001b[49m\u001b[38;5;241m.\u001b[39mStudent(\u001b[38;5;124m\"\u001b[39m\u001b[38;5;124mAmy\u001b[39m\u001b[38;5;124m\"\u001b[39m, \u001b[38;5;124m\"\u001b[39m\u001b[38;5;124mB+\u001b[39m\u001b[38;5;124m\"\u001b[39m)    \u001b[38;5;66;03m# cannot use the definition from the module to create new object\u001b[39;00m\n",
      "\u001b[1;31mNameError\u001b[0m: name 'tutorial_11' is not defined"
     ]
    }
   ],
   "source": [
    "tutorial_11.Student(\"Amy\", \"B+\")    # cannot use the definition from the module to create new object"
   ]
  },
  {
   "cell_type": "code",
   "execution_count": 20,
   "id": "6008584b-3ad4-4b8f-911a-7d8eb4fcb705",
   "metadata": {},
   "outputs": [
    {
     "name": "stdout",
     "output_type": "stream",
     "text": [
      "<tutorial_11.Student object at 0x000001FAA9469190>\n",
      "Tom  is studying hard. He gets a  A+  in this course.\n"
     ]
    }
   ],
   "source": [
    "print(tom)                          # however any objects created before removing the module can still be accessed\n",
    "tom.study()                         # even the methods can still be accessed"
   ]
  },
  {
   "cell_type": "markdown",
   "id": "2f56ac52-47d4-48e8-9864-d60e02ebe1d9",
   "metadata": {},
   "source": [
    "## 2.4. Module namespace\n",
    "\n",
    "To understand why deleting a module will lead to such results, we first need to understand the concept of \"namespace\". A namespace is a container which stores the list of the unique names of all variables that can be accessed by the program. In analogy, we can compare the namespace with the index pages of a book:\n",
    "\n",
    "> When you are reading a book and come to some terminologies that you have forgotten about, go to the index pages to search for the page number where that terminology was first mentioned, and finally go back to that page to revisit that content.\n",
    "\n",
    "The namespace of a program functions in a similar way: \n",
    "\n",
    "> When the program comes to a variable `a`, it first needs to load the values or definition of `a` into the computation units before any calculation can be proceeded. So it first comes to the namespace of the code to search for the memory location where `a`'s definition is saved, and then visit that memory location to retrieve the definition of `a`.\n",
    "\n",
    "Since Python is a heavily OOP language, the namespace in Python is realized as a dictionary object, in which the variable names are only mapped to their definitions at OOP level, instead of the real memory address (This is one of the reason why Python is slow). To see the namespace in a program, i.e. the variables we have defined so far, we can use `dir()` or `globals()`:\n",
    "\n",
    "- `dir()` - Return only the names of the defined variables, as a list.\n",
    "- `global()` - Return the names and also the full definition of the variables, as a dictionary (it is very long)."
   ]
  },
  {
   "cell_type": "code",
   "execution_count": 106,
   "id": "2bffe593-e235-40df-8f7f-1acb61b87ebd",
   "metadata": {},
   "outputs": [
    {
     "name": "stdin",
     "output_type": "stream",
     "text": [
      "Once deleted, variables cannot be recovered. Proceed (y/[n])?  y\n"
     ]
    }
   ],
   "source": [
    "# This is for clearing any definitions in previous cells in jupyter notebook\n",
    "%reset "
   ]
  },
  {
   "cell_type": "code",
   "execution_count": 1,
   "id": "095ac178-a0b5-48b0-9c9a-051a52a70dda",
   "metadata": {},
   "outputs": [],
   "source": [
    "import tutorial_11    # try to import a module by module's names\n",
    "\n",
    "a = 2                 # create some definitons of variables and functions\n",
    "\n",
    "def hello():\n",
    "    my_num = 123\n",
    "    print(my_num)"
   ]
  },
  {
   "cell_type": "code",
   "execution_count": 2,
   "id": "3e92b8c8-0c0b-442f-b260-6295cdcfa6b6",
   "metadata": {},
   "outputs": [
    {
     "name": "stdout",
     "output_type": "stream",
     "text": [
      "['In', 'Out', '_', '__', '___', '__builtin__', '__builtins__', '__doc__', '__loader__', '__name__', '__package__', '__session__', '__spec__', '_dh', '_i', '_i1', '_i2', '_ih', '_ii', '_iii', '_oh', 'a', 'exit', 'get_ipython', 'hello', 'open', 'quit', 'tutorial_11']\n"
     ]
    }
   ],
   "source": [
    "# Remember we can use dir() to get a list of available attributes and methods from an object?\n",
    "# Well in python, a piece of program is also regarded as an object!\n",
    "print(dir())"
   ]
  },
  {
   "cell_type": "markdown",
   "id": "48b51dd5-83a5-4c07-bafc-fd6b33668695",
   "metadata": {},
   "source": [
    "On the list we can see all the definitions we made, plus some extra ones:\n",
    "\n",
    "- `tutorial_11`, `a` and `hello` are the module, variable and function definitions created by the us.\n",
    "- `__builtins__` is the default library of Python, which will be loaded by default for every Python program.\n",
    "- The others are created by jupyter notebook for helping with the GUI. We can ignore them for now.\n",
    "\n",
    "Note that from the list, we cannot see those definitions in the module. To see them, we need to call `dir()` on the module:"
   ]
  },
  {
   "cell_type": "code",
   "execution_count": 3,
   "id": "182e9a27-1695-4287-ac6f-2362b0dd3ece",
   "metadata": {},
   "outputs": [
    {
     "name": "stdout",
     "output_type": "stream",
     "text": [
      "['Student', '__builtins__', '__cached__', '__doc__', '__file__', '__loader__', '__name__', '__package__', '__spec__', 'code', 'get_course']\n"
     ]
    }
   ],
   "source": [
    "print(dir(tutorial_11))"
   ]
  },
  {
   "cell_type": "markdown",
   "id": "31c40aaa-ebb8-4e14-80ec-b346c66af991",
   "metadata": {},
   "source": [
    "By importing solely with module name, we can see that defintions from a module are stored at a different location from those defined in the main function - in jargon we describe that a module has its own namespace separated from the namespace of the main function. **This is also the reason why you need to prefix the module's name** to use the definition - you need to first tell the computer to go to the namespace of `tutorial_11`, and then search for the `code` variable in it. \n",
    "\n",
    "On the contrary, importing definitions as individual objects does not require the prefix because the defintions are added to the namespace of the main program directly. Namespace of the module is not created."
   ]
  },
  {
   "cell_type": "code",
   "execution_count": 107,
   "id": "7f847f6c-b60f-4a31-8ec4-de8512d2e58e",
   "metadata": {
    "scrolled": true
   },
   "outputs": [
    {
     "name": "stdin",
     "output_type": "stream",
     "text": [
      "Once deleted, variables cannot be recovered. Proceed (y/[n])?  y\n"
     ]
    }
   ],
   "source": [
    "%reset"
   ]
  },
  {
   "cell_type": "code",
   "execution_count": 108,
   "id": "6e83a82c-808d-42c8-aef1-78698e3cbc25",
   "metadata": {},
   "outputs": [],
   "source": [
    "from tutorial_11 import code, get_course\n",
    "from tutorial_11 import Student as Stud \n",
    "\n",
    "a = 2\n",
    "\n",
    "def hello():\n",
    "    my_num = 123\n",
    "    print(my_num)"
   ]
  },
  {
   "cell_type": "code",
   "execution_count": 109,
   "id": "30a1aca2-da9b-408c-b91f-0a5d1e23fcf0",
   "metadata": {},
   "outputs": [
    {
     "name": "stdout",
     "output_type": "stream",
     "text": [
      "['In', 'Out', 'Stud', '__builtins__', '_dh', '_i', '_i108', '_i109', '_ih', '_ii', '_iii', '_oh', 'a', 'code', 'exit', 'get_course', 'get_ipython', 'hello', 'open', 'quit']\n"
     ]
    }
   ],
   "source": [
    "print(dir())"
   ]
  },
  {
   "cell_type": "markdown",
   "id": "b528651d-ee04-4a29-93f3-5391d1757b73",
   "metadata": {},
   "source": [
    "This also explains why deleting a module will not affect any object we create using the definitions from a module - the object is added to the namespace of the main function. It is not linked to the module after creation. "
   ]
  },
  {
   "cell_type": "markdown",
   "id": "c1a1f100-2be3-46a8-87cd-847f9c41f646",
   "metadata": {},
   "source": [
    "## 2.5. `if __name__ == \"__main__\"`\n",
    "\n",
    "With the concept of namespace, understanding what this line doing is easy. `__name__` is a variable created by the Python interpreter for each module when it is run. Its value depends on how the code is run:\n",
    "\n",
    "- If the module is the first one to be initiated, its value is assigned to be the string `\"__main__\"`.\n",
    "- If the module is the one being imported by another another module, its value is assigned to be the module's name."
   ]
  },
  {
   "cell_type": "code",
   "execution_count": 4,
   "id": "b4926f85-a5a3-4a80-a244-e336f00e2cff",
   "metadata": {},
   "outputs": [
    {
     "name": "stdout",
     "output_type": "stream",
     "text": [
      "__main__\n"
     ]
    }
   ],
   "source": [
    "print(__name__)"
   ]
  },
  {
   "cell_type": "code",
   "execution_count": 5,
   "id": "4480b082-66d9-4c17-b68e-fae1dbcccec1",
   "metadata": {},
   "outputs": [
    {
     "name": "stdout",
     "output_type": "stream",
     "text": [
      "tutorial_11\n"
     ]
    }
   ],
   "source": [
    "print(tutorial_11.__name__)"
   ]
  },
  {
   "cell_type": "markdown",
   "id": "11e56994-9778-49b9-836c-0810344c653f",
   "metadata": {},
   "source": [
    "Therefore you will see a lot of people writing their `.py` program like the follow:\n",
    "\n",
    "```python\n",
    "class some_class1():\n",
    "    #...\n",
    "\n",
    "class some_class2():\n",
    "    #...\n",
    "\n",
    "    \n",
    "if __name__ = \"__main__\":\n",
    "    # execute some actions\n",
    "``` \n",
    "\n",
    "In this way this file can be used as both an imported module and also a standalone program. When the program is imported as a module, only the class and function defintions are added to the namespace of the main program. When the program is run directly as the main function, `__name__ = \"__main__\"` returns `True`, so it will execute the actions inside the `if` clause. This is convenient for one to add codes for debugging or use the module as an executable. "
   ]
  },
  {
   "cell_type": "markdown",
   "id": "d0790fc4-9cd3-4036-ae23-b71abadd1b21",
   "metadata": {},
   "source": [
    "## 2.6. Package\n",
    "\n",
    "Finally we can come to package - a package is basically a bundle of modules which is intended to be distributed to other users as a single project. It is not necessary to understand in details how to make one if you are only making single-use small projects. For your interest, you may visit https://packaging.python.org/en/latest/tutorials/packaging-projects/ to read more. "
   ]
  }
 ],
 "metadata": {
  "kernelspec": {
   "display_name": "Python 3 (ipykernel)",
   "language": "python",
   "name": "python3"
  },
  "language_info": {
   "codemirror_mode": {
    "name": "ipython",
    "version": 3
   },
   "file_extension": ".py",
   "mimetype": "text/x-python",
   "name": "python",
   "nbconvert_exporter": "python",
   "pygments_lexer": "ipython3",
   "version": "3.11.5"
  }
 },
 "nbformat": 4,
 "nbformat_minor": 5
}
