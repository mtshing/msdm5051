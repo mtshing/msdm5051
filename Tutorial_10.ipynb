{
 "cells": [
  {
   "cell_type": "markdown",
   "id": "4904b614-4615-4ec3-893e-e9779e25cabc",
   "metadata": {
    "tags": []
   },
   "source": [
    "# MSDM5051 Tutorial 10 - More Utilities in Python\n",
    "\n",
    "## Contents\n",
    "\n",
    "1. Iterable & Iterator\n",
    "2. Functional Programming"
   ]
  },
  {
   "cell_type": "markdown",
   "id": "bdd745dc-6977-4ffe-87b2-312fcb76071d",
   "metadata": {
    "tags": []
   },
   "source": [
    "---\n",
    "# 1. Iterable & Iterator\n",
    "\n",
    "## 1.1. Iterator\n",
    "\n",
    "Regardness of programming language, an **iterator** is defined as an abstract object that contains a *next()* method and a *done()* method:\n",
    "\n",
    "- Each time *next()* is called, an item will be returned. The order of returning the item follows a certain sequence.\n",
    "- When there are no more item left in the sequence, *done()* will return `True`.\n",
    "\n",
    "And the sequence of the items is called an **iterable**. We can imagine that an iterator can be used be like:\n",
    "\n",
    "```\n",
    "while not iterator.done():\n",
    "    item_in_iterable = iterator.next()\n",
    "    \n",
    "    # ... (do something with the item_in_iterable)\n",
    "```\n",
    "\n",
    "Basically anything in Python that are collection-like are iterables. For example, strings, tuples, and lists can all be iterated because they are obviously containing items that follow a certain order; dictionary and set can also be iterated, although their iteration order are hidden behind the hashing. \n",
    "\n",
    "On the other hand, an iterator can be thought as an iterable with an additional position parameter - which tells you up to which position the items have been processed and those beyond have not. To convert an iterable into an iterator, we can use the `iter()` function. "
   ]
  },
  {
   "cell_type": "code",
   "execution_count": 1,
   "id": "66542f06-4a27-4acd-9f39-be15782e5509",
   "metadata": {},
   "outputs": [
    {
     "name": "stdout",
     "output_type": "stream",
     "text": [
      "<str_ascii_iterator object at 0x00000238BA3F7520>\n",
      "<list_iterator object at 0x00000238BA3F7520>\n",
      "<dict_keyiterator object at 0x00000238B8EFEF20>\n"
     ]
    }
   ],
   "source": [
    "print(iter(\"Python\"))\n",
    "print(iter([1,2,3]))\n",
    "print(iter({\"1\":\"a\", \"2\":\"b\", \"3\":\"c\"}))"
   ]
  },
  {
   "cell_type": "markdown",
   "id": "8476d167-4245-41ee-b7d7-ef044f5c4c09",
   "metadata": {
    "tags": []
   },
   "source": [
    "Python has a [protocol](https://www.pythonmorsels.com/iterator-protocol/#the-iterator-protocol) guiding how a iterator should run in Python:\n",
    "\n",
    "- The *next()* method can be operated on the iterator to fetch the next item. \n",
    "- There is no *done()*. Rather it should raise an `StopIteration` exception (i.e. error) to notify that the iterator has completed.\n",
    "\n",
    "which make the usage look like:"
   ]
  },
  {
   "cell_type": "code",
   "execution_count": 2,
   "id": "1781b8ee-c323-4f33-a801-b402a925eec1",
   "metadata": {},
   "outputs": [],
   "source": [
    "def do_iteration_over(iterator):\n",
    "    while True:\n",
    "        try:                                                 # try-except statements are used to handle exception (i.e. error) in Python\n",
    "            item_in_iterable = next(iterator)\n",
    "\n",
    "            # ... (do something with the item_in_iterable)\n",
    "\n",
    "        except StopIteration:                                # things inside except will run when a specific type of error is found.\n",
    "                                                             # In this case, it is looking for the type of error called \"StopIteration\" \n",
    "            break\n",
    "            "
   ]
  },
  {
   "cell_type": "markdown",
   "id": "cc555f38-6f30-486a-80af-54f41c25afd3",
   "metadata": {},
   "source": [
    "But this syntax is obviously over-complicated in order to \"do something with the `item_in_iterable`\". Actually, there is a much simpler syntax that we have known since day 1 of learning Python:"
   ]
  },
  {
   "cell_type": "code",
   "execution_count": null,
   "id": "e3dc7055-c68f-48a8-ad95-dbb8e6e4398d",
   "metadata": {},
   "outputs": [],
   "source": [
    "for item in iterable:\n",
    "    \n",
    "    # ... (do something with the item)\n",
    "    "
   ]
  },
  {
   "cell_type": "markdown",
   "id": "002b11e6-5b82-4656-b3ae-63fb1cf903a1",
   "metadata": {},
   "source": [
    "That is, in a [`for` loop in Python](https://docs.python.org/3/tutorial/classes.html#iterators), what the code does is in fact first convert the iterable into an iterator object, then keep calling `next()` to fetch the items until it reaches the `StopIteration` exception. This is different from those lower level language like C++, which their `for` loop are simply retrieving items from the memory, according to increment/decrement of index."
   ]
  },
  {
   "cell_type": "markdown",
   "id": "84cc5c11-b21a-4ace-add5-5740e78ceae5",
   "metadata": {
    "tags": []
   },
   "source": [
    "But why bother creating the whole `iterator` class as a replacement to the `for` loop in lower level language? This is because we want more control in the iteration process. When a `for` loop is run, the program will first load ALL items in the iterable into the memory before examine and process each of the item. Problems occur when the items are hugh in size - for example when you are doing an image processing task of over 10000 images of a few MB - it is simply impossible to load them all in the memory at the same time.\n",
    "\n",
    "So it comes to the concept of iterator. In a scenario **when the items can be processed independently**, it is much more memory efficient if we can load one item, process it, and unload it before we load the next item. By having a `next()` method, we can decide when to load the next item. \n"
   ]
  },
  {
   "cell_type": "code",
   "execution_count": 3,
   "id": "eac27acd-91d0-40e6-bcb6-b380924e27ba",
   "metadata": {},
   "outputs": [],
   "source": [
    "# removing the while loop, so item will only be processed when the iterator is told to (and you can control it with another program)\n",
    "\n",
    "def do_iteration_over(iterator):\n",
    "    try:                                                 \n",
    "        item_in_iterable = next(iterator)\n",
    "\n",
    "        # ... (do something with the item_in_iterable)\n",
    "        print(\"processing item\", item_in_iterable)\n",
    "\n",
    "    except StopIteration:\n",
    "        \n",
    "        # ... (what to do when no more item are left)\n",
    "        print(\"all items have been processed\")\n",
    "        "
   ]
  },
  {
   "cell_type": "code",
   "execution_count": 4,
   "id": "faecec5d-8c41-4639-a130-5ccf0a569c68",
   "metadata": {},
   "outputs": [
    {
     "name": "stdout",
     "output_type": "stream",
     "text": [
      "processing item 3\n",
      "processing item 6\n",
      "processing item 9\n",
      "all items have been processed\n"
     ]
    }
   ],
   "source": [
    "my_iterable = [3,6,9]\n",
    "\n",
    "my_iterator = iter(my_iterable)\n",
    "\n",
    "do_iteration_over(my_iterator)\n",
    "do_iteration_over(my_iterator)\n",
    "do_iteration_over(my_iterator)\n",
    "do_iteration_over(my_iterator)"
   ]
  },
  {
   "cell_type": "markdown",
   "id": "659a7586-44d9-433e-b892-4695001d266c",
   "metadata": {
    "tags": []
   },
   "source": [
    "## 1.2. Generator\n",
    "\n",
    "Then it comes to the generalization to \"generator\". Note that the function `iter()` can only convert an iterable into an `iterator` object directly, but it is more handy if we preprocess the iterable to get the real items we need. For example, we can store the paths of files in a list, and tell the iterator to read the corresponding file data of that path in the memory. \n",
    "\n",
    "Python calls these kinds of iterators with preprocessing as `generator`. The syntax to create a `generator` object is almost the same as writing a normal function, but replacing the keyword `return` to `yield`.\n"
   ]
  },
  {
   "cell_type": "code",
   "execution_count": 5,
   "id": "cce598da-0e02-4d7c-977a-c0ba26fbe782",
   "metadata": {},
   "outputs": [],
   "source": [
    "def my_generator_func(my_iterable):\n",
    "    for item in my_iterable:\n",
    "        \n",
    "        value_after_process = item**2+1\n",
    "        \n",
    "        yield value_after_process              # use yield instead of return"
   ]
  },
  {
   "cell_type": "code",
   "execution_count": 6,
   "id": "75cfa8f4-9305-49de-acda-fd72f6be3a1d",
   "metadata": {},
   "outputs": [
    {
     "name": "stdout",
     "output_type": "stream",
     "text": [
      "<function my_generator_func at 0x00000238BB85E0C0>\n",
      "<generator object my_generator_func at 0x00000238BB8529B0>\n",
      "<list_iterator object at 0x00000238BB863BB0>\n"
     ]
    }
   ],
   "source": [
    "print(my_generator_func)                       # generator function without inputting the iterable = still a normal function object\n",
    "\n",
    "my_generator = my_generator_func([3,6,9])      # applying generator function on iterable = generator object \n",
    "print(my_generator)                            # = iterable + preprocessing + next() method\n",
    "\n",
    "my_iterator = iter([3,6,9])                    # apply iter() on iterable = iterator object \n",
    "print(my_iterator)                             # = iterable + next() method, but no preprocessing\n"
   ]
  },
  {
   "cell_type": "code",
   "execution_count": 7,
   "id": "45baee4e-92d3-4548-a4c4-32c304e8987a",
   "metadata": {
    "jp-MarkdownHeadingCollapsed": true,
    "tags": []
   },
   "outputs": [
    {
     "name": "stdout",
     "output_type": "stream",
     "text": [
      "processing item 10\n",
      "processing item 37\n",
      "processing item 82\n",
      "all items have been processed\n"
     ]
    }
   ],
   "source": [
    "do_iteration_over(my_generator)\n",
    "do_iteration_over(my_generator)\n",
    "do_iteration_over(my_generator)\n",
    "do_iteration_over(my_generator)"
   ]
  },
  {
   "cell_type": "markdown",
   "id": "07067afa-39ce-4375-91dc-840811cdbea2",
   "metadata": {},
   "source": [
    "## 1.3. Comprehension\n",
    "\n",
    "Comprehension is a *syntax* native to Python, which is for converting an iterable into another iterable of related items within one line of code. You may have already seen them before, for example, converting a list into another list, set, or dictionary:"
   ]
  },
  {
   "cell_type": "code",
   "execution_count": 8,
   "id": "515787cd-942b-4fc4-ad0f-f6399af285ba",
   "metadata": {},
   "outputs": [
    {
     "name": "stdout",
     "output_type": "stream",
     "text": [
      "[1, 4, 9]\n",
      "{1, 4, 9}\n",
      "{1: 1, 2: 4, 3: 9}\n"
     ]
    }
   ],
   "source": [
    "# The list [1,2,3] is converted in to [1,4,9]\n",
    "\n",
    "num_list = [i**2 for i in [1,2,3]]        # use [] for list\n",
    "print(num_list)\n",
    "\n",
    "num_set = {i**2 for i in [1,2,3]}          # use {} for set or dict\n",
    "print(num_set)\n",
    "\n",
    "num_dict = {i:i**2 for i in [1,2,3]}\n",
    "print(num_dict)"
   ]
  },
  {
   "cell_type": "markdown",
   "id": "8fb27224-616f-4b4a-823c-754f4427be75",
   "metadata": {},
   "source": [
    "The comprehension syntax is in fact preferred rather than normal for loops because they are more compact, optimized and are designed to avoid many unnecessary computational overheads during the construction of the new list/set/dict. We may compare the required time for same operations using both syntax:"
   ]
  },
  {
   "cell_type": "code",
   "execution_count": 9,
   "id": "645c447f-2bbe-48c8-83a6-7306157484ba",
   "metadata": {},
   "outputs": [
    {
     "name": "stdout",
     "output_type": "stream",
     "text": [
      "10.4 ms ± 272 μs per loop (mean ± std. dev. of 7 runs, 100 loops each)\n",
      "13.8 ms ± 850 μs per loop (mean ± std. dev. of 7 runs, 100 loops each)\n"
     ]
    }
   ],
   "source": [
    "def comprehension():\n",
    "    return sum([i * i for i in range(100000)])\n",
    "\n",
    "def loop():\n",
    "    res = [None]*100000\n",
    "    for i in range(100000):\n",
    "        res[i] = (i**2)\n",
    "    return sum(res)\n",
    "\n",
    "%timeit comprehension()\n",
    "%timeit loop()"
   ]
  },
  {
   "cell_type": "markdown",
   "id": "567af5f7-f2fb-4be5-bc7d-9491b9c07774",
   "metadata": {},
   "source": [
    "However since everything has to be compacted into one line, the kinds of operations we can use comprehension for is limited. We usually define them into two kinds: \n",
    "\n",
    "- *Map* - Each item in the original iterable is mapped to its corresponding item in the new iterable. \n",
    "- *Filter* - Each item is checked with a condition, and only those returning `True` are put into the new iterable.\n",
    "\n",
    "And of course you can do both."
   ]
  },
  {
   "cell_type": "code",
   "execution_count": 10,
   "id": "38005ec9-8b1a-4021-9d40-9ed6bee14ab9",
   "metadata": {},
   "outputs": [
    {
     "name": "stdout",
     "output_type": "stream",
     "text": [
      "[1, 4, 9, 16, 25, 36, 49, 64]\n",
      "[4, 5, 6, 7, 8]\n",
      "[16, 25, 36, 49, 64]\n"
     ]
    }
   ],
   "source": [
    "by_map = [i**2 for i in [1,2,3,4,5,6,7,8]]\n",
    "print(by_map)\n",
    "\n",
    "by_filter = [i for i in [1,2,3,4,5,6,7,8] if i > 3]\n",
    "print(by_filter)\n",
    "\n",
    "by_map_and_filter = [i**2 for i in [1,2,3,4,5,6,7,8] if i > 3]\n",
    "print(by_map_and_filter)"
   ]
  },
  {
   "cell_type": "markdown",
   "id": "0f33201a-ff21-4ffa-965a-ae7db3134e08",
   "metadata": {},
   "source": [
    "You can also use the comprehension syntax to create a `generator` object by simply replacing `[]` or `{}` with `()`. In this usage the comprehension syntax is called a \"generator expression\"."
   ]
  },
  {
   "cell_type": "code",
   "execution_count": 11,
   "id": "ebe74d9e-fb10-4ec3-a010-dd8576705d50",
   "metadata": {},
   "outputs": [
    {
     "name": "stdout",
     "output_type": "stream",
     "text": [
      "<generator object <genexpr> at 0x00000238BB8535E0>\n"
     ]
    }
   ],
   "source": [
    "generate_by_map_and_filter = (i**2 for i in [1,2,3,4,5,6,7,8] if i > 3)\n",
    "print(generate_by_map_and_filter)"
   ]
  },
  {
   "cell_type": "markdown",
   "id": "8d280b4b-0ffa-4b4c-8ec9-30eb696b92da",
   "metadata": {},
   "source": [
    "---\n",
    "# 2. Functional Programming\n",
    "\n",
    "Remember that everything in Python is in fact class and objects? This applies to normal functions as well - we can treat each function as an object and pass it as an argument to another function. "
   ]
  },
  {
   "cell_type": "markdown",
   "id": "309048ba-a48a-4c29-8d38-f15b340886a6",
   "metadata": {
    "tags": []
   },
   "source": [
    "## 2.1. Built-in function-of-functions\n",
    "\n",
    "We can find some simple examples of built-in function in Python that require an input of another function:\n",
    "\n",
    "1. `map()` - Apply the function to each item in an iterable and map them to items in the new iterable.\n",
    "\n",
    "2. `filter()` - Check each item in an iterable with a function, only those returning `True` are put into the new iterable.\n",
    "\n",
    "You can think of them as an alternative syntax to using comprehension. But `map` and `filter` will return an `iterator` object instead of a specific iterable type. \n"
   ]
  },
  {
   "cell_type": "code",
   "execution_count": 12,
   "id": "b0f18808-5d5a-44ca-80ae-26765e88b2b9",
   "metadata": {},
   "outputs": [],
   "source": [
    "def mapping_function(x):\n",
    "    return x**2\n",
    "\n",
    "def filter_function(x):\n",
    "    return x>3"
   ]
  },
  {
   "cell_type": "code",
   "execution_count": 13,
   "id": "0e6ac36c-7ea2-4ab4-93cc-3555790d14be",
   "metadata": {},
   "outputs": [
    {
     "name": "stdout",
     "output_type": "stream",
     "text": [
      "<map object at 0x00000238BB875330> -> convert to list -> [1, 4, 9, 16, 25, 36, 49, 64]\n",
      "[1, 4, 9, 16, 25, 36, 49, 64]\n",
      "\n",
      "\n",
      "<filter object at 0x00000238BB875570> -> convert to list -> [4, 5, 6, 7, 8]\n",
      "[4, 5, 6, 7, 8]\n"
     ]
    }
   ],
   "source": [
    "by_map1 = map(mapping_function, [1,2,3,4,5,6,7,8])\n",
    "print(by_map1, \"-> convert to list ->\", list(by_map1))\n",
    "\n",
    "by_map2 = [mapping_function(i) for i in [1,2,3,4,5,6,7,8]]\n",
    "print(by_map2)\n",
    "\n",
    "#################################################\n",
    "print(\"\\n\")\n",
    "\n",
    "by_filter1 = filter(filter_function, [1,2,3,4,5,6,7,8])\n",
    "print(by_filter1, \"-> convert to list ->\", list(by_filter1))\n",
    "\n",
    "by_filter2 = [i for i in [1,2,3,4,5,6,7,8] if filter_function(i)]\n",
    "print(by_filter2)"
   ]
  },
  {
   "cell_type": "markdown",
   "id": "4d0e7118-22bd-45c2-93a7-8a4ee7bc6554",
   "metadata": {},
   "source": [
    "## 2.2. `lambda` function \n",
    "\n",
    "The lambda function is also known as the anonymous function in Python. The syntax generally follow:\n",
    "\n",
    "```python\n",
    "# create a function object f that can be used later\n",
    "f = lambda parameter: expression_to_compute\n",
    "\n",
    "# compute the function over the given input arguments immediately\n",
    "(lambda parameter: expression_to_compute)(input_arguments)\n",
    "```\n",
    "\n",
    "For example,"
   ]
  },
  {
   "cell_type": "code",
   "execution_count": 14,
   "id": "7e92238e-39fa-4275-880c-cc7e5394001b",
   "metadata": {},
   "outputs": [
    {
     "name": "stdout",
     "output_type": "stream",
     "text": [
      "<function <lambda> at 0x00000238BB85FB00>\n",
      "7\n",
      "7\n"
     ]
    }
   ],
   "source": [
    "f1 = lambda x,y: x**2+y         # f1 is assigned to be refering the lambda function\n",
    "\n",
    "print(f1)         \n",
    "print(f1(2,3))   # and can be used to compute something later\n",
    "\n",
    "print((lambda x,y: x**2+y)(2,3))       # equivalently, if input are supplied, the results are immediately computed\n"
   ]
  },
  {
   "cell_type": "code",
   "execution_count": 15,
   "id": "f46c6ddd-b4fc-4328-afad-c9c469242905",
   "metadata": {},
   "outputs": [
    {
     "name": "stdout",
     "output_type": "stream",
     "text": [
      "<function f at 0x00000238BB85FD80>\n",
      "7\n"
     ]
    }
   ],
   "source": [
    "# See what will you get if you use an equivalently regular function\n",
    "\n",
    "def f(x,y):\n",
    "    return x**2+y\n",
    "\n",
    "f2 = f            # f2 is assigned to be refering the regular function\n",
    "\n",
    "print(f2)\n",
    "print(f2(2,3))"
   ]
  },
  {
   "cell_type": "markdown",
   "id": "30e2302d-52b3-4f17-b70c-eb5066b11a65",
   "metadata": {},
   "source": [
    "We can see that the biggest difference between lambda function and regular function is that lambda function has no name (`<lambda>` vs `f` in the object name). This means that a lambda function cannot be called again if we do not make a reference to it with other variable when it is declared. \n",
    "\n",
    "So in what situation would we use a lambda function? Some people find them convenient when they need a one-used short function to be passed as an argument. For example,\n"
   ]
  },
  {
   "cell_type": "code",
   "execution_count": 16,
   "id": "450cdcd9-244a-4910-94d3-8acabc3f8ba3",
   "metadata": {},
   "outputs": [
    {
     "name": "stdout",
     "output_type": "stream",
     "text": [
      "7.5\n",
      "12.0\n"
     ]
    }
   ],
   "source": [
    "def what_to_do(condition):\n",
    "    if condition==True:\n",
    "        return lambda x: x*2            # We are pretty sure that we won't call this function outside of what_to_do()\n",
    "                                        # Also the function is too short. Don't want to write a whole def f(...) block of code just for this\n",
    "    else:\n",
    "        return lambda x: x/2\n",
    "\n",
    "#########################################################\n",
    "my_condition = False\n",
    "action = what_to_do(my_condition)       # use my_condition to determine which function to be the next action\n",
    "                                        # but without really executing it\n",
    "\n",
    "print(action(15))            # then we can save this function for later use\n",
    "print(action(24))\n"
   ]
  },
  {
   "cell_type": "markdown",
   "id": "16bb73d0-e654-4b94-9a18-86c519af423f",
   "metadata": {},
   "source": [
    "Just be remind that you can always go back to the `def` syntax to define a function, if you feel unfamiliar to use the `lambda` syntax."
   ]
  },
  {
   "cell_type": "markdown",
   "id": "c49cce6b-220e-4d01-9e98-900594639fa5",
   "metadata": {},
   "source": [
    "## 2.3. Decorator\n",
    "\n",
    "Decorator is the fancy name describing a \"function acting on the original function that will return a modified one\", and sometimes people may refer it as a wrapper function, function modifier, etc.. That is, we can use decorator to add some extra funtionality on our original function. And by putting these additions in a separated function from the original function, they may be reused in some other code as well. For example,"
   ]
  },
  {
   "cell_type": "code",
   "execution_count": 17,
   "id": "8412729f-093f-44c8-994a-1fdfe9b9cf47",
   "metadata": {},
   "outputs": [],
   "source": [
    "# define the decorator function\n",
    "def decorate_this_function(func):\n",
    "    \n",
    "    def f(*args, **kwargs):                                     # define how the original function should be modified\n",
    "                                                                # *args and **kwargs represent the input of the original function\n",
    "        \n",
    "        #####################################\n",
    "        print(\"before \", func, \"starts\")                        # for example, here modifies the original function by printing 2 lines \n",
    "        func(*args, **kwargs)                                   # before and after the original function runs\n",
    "        print(\"after\", func, \"finished\")\n",
    "        #####################################\n",
    "\n",
    "    return f                                                    # return the modified version"
   ]
  },
  {
   "cell_type": "code",
   "execution_count": 18,
   "id": "81a78af7-69d3-4479-8bfb-01745474562a",
   "metadata": {},
   "outputs": [
    {
     "name": "stdout",
     "output_type": "stream",
     "text": [
      "before  <function my_func1 at 0x00000238BB894860> starts\n",
      "Tom is running the function\n",
      "after <function my_func1 at 0x00000238BB894860> finished\n",
      "\n",
      "\n",
      "before  <function my_func2 at 0x00000238BB8949A0> starts\n",
      "Eric is messing with the function\n",
      "after <function my_func2 at 0x00000238BB8949A0> finished\n"
     ]
    }
   ],
   "source": [
    "# These two expressions are equivalent\n",
    "\n",
    "###########################################################\n",
    "# expression 1 - add the decorator using @ before the original function \n",
    "@decorate_this_function\n",
    "def my_func1(user):\n",
    "    print(user, \"is running the function\")\n",
    "\n",
    "    \n",
    "###########################################################\n",
    "# expression 2 - execute the decorator over the original function \n",
    "def my_func2(user):\n",
    "    print(user, \"is messing with the function\")\n",
    "\n",
    "my_func2 = decorate_this_function(my_func2)\n",
    "\n",
    "###########################################################\n",
    "my_func1(\"Tom\")\n",
    "print(\"\\n\")\n",
    "my_func2(\"Eric\")"
   ]
  },
  {
   "cell_type": "markdown",
   "id": "709b4926-5fd0-4f17-a46b-576dde9c0a9f",
   "metadata": {},
   "source": [
    "We have already seen a use of decorator in dynamic programming previously. Remember the `lru_cache` decorator from `functools` module:\n",
    "\n",
    "```python\n",
    "from functools import lru_cache\n",
    "\n",
    "@lru_cache(max_size=None)\n",
    "def my_recursive_func(input1, input2, input3):\n",
    "    # ...\n",
    "```\n",
    "\n",
    "You can imagine what it does is somewhat like replacing the two `print()` lines in the above example to be\n",
    "- `print(before \", func, \"starts\")` $\\rightarrow$ \"creating a dictionary\" + \"check if the corresponding output is already present in the queue\".\n",
    "- `print(\"after\", func, \"finished\")` $\\rightarrow$ \"save the value to the queue\".\n",
    "\n",
    "Decorators are used extensively in advanced Python projects, like in building web server, doing parallel programming tasks, etc, you will see them everywhere. But the idea is similar - they contain the codes which define the preprocessing or after-processing tasks. The use of decorator can help us separate the main task from these peripheral tasks, making our code easier to manage.\n"
   ]
  }
 ],
 "metadata": {
  "kernelspec": {
   "display_name": "Python 3 (ipykernel)",
   "language": "python",
   "name": "python3"
  },
  "language_info": {
   "codemirror_mode": {
    "name": "ipython",
    "version": 3
   },
   "file_extension": ".py",
   "mimetype": "text/x-python",
   "name": "python",
   "nbconvert_exporter": "python",
   "pygments_lexer": "ipython3",
   "version": "3.12.3"
  }
 },
 "nbformat": 4,
 "nbformat_minor": 5
}
